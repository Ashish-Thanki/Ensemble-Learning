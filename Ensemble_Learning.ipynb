{
 "cells": [
  {
   "cell_type": "markdown",
   "metadata": {},
   "source": [
    "# Ensemble Learning \n",
    "\n",
    "Aggregating a series of models together helps form a stronger model. As you have have seen in shuffling the DecisionTreeClassifier into smaller models. The group of predictions is called ensemble and the combined group of algorithms is called Ensemble Method. There are several Ensemble Methods, but the following are discussed within this tutorial:\n",
    "1. Bagging\n",
    "2. Pasting\n",
    "3. Out of Bag Evaluation\n",
    "4. Random Patches\n",
    "5. Random Subspaces\n",
    "6. Random Forests\n",
    "7. Extra Forests\n",
    "8. AdaBoost\n",
    "9. Gradient Boosting\n",
    "10. Stacking\n",
    "\n",
    "As with the tutorial that used a DecisionTree to manually create a RandomForestClassifier. The predictions of each model is aggregated together to provide the 'most votes' (i.e. mode) also known as <b> hard voting classifier </b>. \n",
    "\n",
    "\n",
    "Let's show this using the moons dataset.\n",
    "\n",
    "# Load Data"
   ]
  },
  {
   "cell_type": "code",
   "execution_count": 1,
   "metadata": {},
   "outputs": [],
   "source": [
    "from sklearn.datasets import make_moons\n",
    "\n",
    "data = make_moons(n_samples= 500, noise=0.3, random_state=42)\n",
    "X= data[0]\n",
    "y= data[1]"
   ]
  },
  {
   "cell_type": "markdown",
   "metadata": {},
   "source": [
    "# Split Data"
   ]
  },
  {
   "cell_type": "code",
   "execution_count": 2,
   "metadata": {},
   "outputs": [],
   "source": [
    "from sklearn.model_selection import train_test_split \n",
    "X_train, X_test, y_train, y_test = train_test_split(X, y, random_state= 42)\n"
   ]
  },
  {
   "cell_type": "markdown",
   "metadata": {},
   "source": [
    "# Train Diverse Classifiers\n",
    "\n",
    "Ensemble methods work best when the predictos are as independent from one another as possible. You should train very different algorithms as this increases the chances that they will make very errors, this will help improve the ensemble's accuracy. \n",
    "\n",
    "### Hard Voting Classifier\n",
    "Which obtains the actual prediction. "
   ]
  },
  {
   "cell_type": "code",
   "execution_count": 3,
   "metadata": {},
   "outputs": [
    {
     "name": "stdout",
     "output_type": "stream",
     "text": [
      "SVC 0.896\n",
      "LogisticRegression 0.864\n",
      "RandomForestClassifier 0.888\n",
      "VotingClassifier 0.904\n"
     ]
    }
   ],
   "source": [
    "from sklearn.svm import SVC\n",
    "from sklearn.linear_model import LogisticRegression\n",
    "from sklearn.ensemble import RandomForestClassifier\n",
    "from sklearn.ensemble import VotingClassifier #This will help combine the classifiers together\n",
    "import numpy as np\n",
    "from sklearn.metrics import accuracy_score\n",
    "np.random.seed(42)\n",
    "\n",
    "svc = SVC(gamma= 'scale')\n",
    "log_clf = LogisticRegression()\n",
    "forest_clf = RandomForestClassifier(n_estimators=100)\n",
    "\n",
    "voting_clf = VotingClassifier(\n",
    "    estimators= [('svc', svc), ('Logistic', log_clf), ('Forest', forest_clf)],\n",
    "    voting= 'hard')\n",
    "\n",
    "for clf in (svc, log_clf, forest_clf, voting_clf):\n",
    "    clf.fit(X_train, y_train)\n",
    "    y_pred= clf.predict(X_test)\n",
    "    print(clf.__class__.__name__, accuracy_score(y_test, y_pred))"
   ]
  },
  {
   "cell_type": "markdown",
   "metadata": {},
   "source": [
    "### Soft Voting Classifier\n",
    "Soft voting uses the highest class <u> probability </u> averaged over all the individual probability classifiers (which is different to hard voting, which uses the mode of the class prediction itself rather then the probability). "
   ]
  },
  {
   "cell_type": "code",
   "execution_count": 4,
   "metadata": {},
   "outputs": [
    {
     "name": "stdout",
     "output_type": "stream",
     "text": [
      "SVC 0.896\n",
      "LogisticRegression 0.864\n",
      "RandomForestClassifier 0.888\n",
      "VotingClassifier 0.912\n"
     ]
    }
   ],
   "source": [
    "from sklearn.svm import SVC\n",
    "from sklearn.linear_model import LogisticRegression\n",
    "from sklearn.ensemble import RandomForestClassifier\n",
    "from sklearn.ensemble import VotingClassifier #This will help combine the classifiers together\n",
    "import numpy as np\n",
    "from sklearn.metrics import accuracy_score\n",
    "np.random.seed(42)\n",
    "\n",
    "svc_prob = SVC(gamma= 'scale', probability= True)#default SVC predicts classes not probabilities\n",
    "log_clf_prob = LogisticRegression()\n",
    "forest_clf_prob = RandomForestClassifier(n_estimators=100)\n",
    "\n",
    "voting_clf_prob = VotingClassifier(\n",
    "    estimators= [('svc', svc_prob), ('Logistic', log_clf_prob), ('Forest', forest_clf_prob)],\n",
    "    voting= 'soft')\n",
    "\n",
    "for clf_prob in (svc_prob, log_clf_prob, forest_clf_prob, voting_clf_prob):\n",
    "    clf_prob.fit(X_train, y_train)\n",
    "    y_pred_prob= clf_prob.predict(X_test)\n",
    "    print(clf_prob.__class__.__name__, accuracy_score(y_test, y_pred_prob))\n"
   ]
  },
  {
   "cell_type": "markdown",
   "metadata": {},
   "source": [
    "# Bagging and Pasting\n",
    "Another way to obtain better results is to use Bagging or Pasting.\n",
    "\n",
    "Training the same algorithm over several subsets is beneficial and can help provide a better model. The ensembled model will have similiar bias (Generalization error caused by underfitting) and lower variance (generealization error caused by overfitting) when using bagging/pasting, compared to a single model trained across the entire training data. This is very usful when you wanto train data across a very large dataset.\n",
    "\n",
    "#### SO what is bagging and pasting?\n",
    "The subsets can be split by 2 different ways, with replacement (think of it as copying data) and without replacement (the same but cutting the data). \n",
    "\n",
    "1. Bagging = aka Boostrap Aggregating = Is when you copy training instances to be sampled across your subsets multiple times to meet the max_samples parameter (i.e. size of the subset training data) that you have set.\n",
    "2. Pasting - without replacement = is when you create subsets without any replicating instances within any of your subsets. \n",
    "\n",
    "Once you have obtained the training models the aggregation function is typically used to combine them. This can either be the statistical mode for classification (i.e. hard voting classification) or average for regression. \n",
    "\n",
    "### Fortunetly, we can use Scikit-Learn to do the bulk of the work for us. "
   ]
  },
  {
   "cell_type": "code",
   "execution_count": 5,
   "metadata": {},
   "outputs": [
    {
     "data": {
      "text/plain": [
       "0.904"
      ]
     },
     "execution_count": 5,
     "metadata": {},
     "output_type": "execute_result"
    }
   ],
   "source": [
    "# We need to assign the number of splits per bag - max_samples\n",
    "# assign the number of classifiers (i.e. models we want to create) - n_estimators\n",
    "# n_jobs = -1, says use all available cores\n",
    "# boostrap=True means bagging method while boostrap=False means pasting method\n",
    "\n",
    "from sklearn.ensemble import BaggingClassifier\n",
    "from sklearn.tree import DecisionTreeClassifier\n",
    "\n",
    "bag_clf = BaggingClassifier(\n",
    "                            DecisionTreeClassifier(), n_estimators= 500,\n",
    "                            max_samples= 100, bootstrap= True, n_jobs=-1, random_state=42)\n",
    "\n",
    "bag_clf.fit(X_train, y_train)\n",
    "y_pred_bag = bag_clf.predict(X_test)\n",
    "\n",
    "accuracy_score(y_test, y_pred_bag)\n"
   ]
  },
  {
   "cell_type": "markdown",
   "metadata": {},
   "source": [
    "##### Compare this to just 1 Decision Tree"
   ]
  },
  {
   "cell_type": "code",
   "execution_count": 6,
   "metadata": {},
   "outputs": [
    {
     "data": {
      "text/plain": [
       "0.856"
      ]
     },
     "execution_count": 6,
     "metadata": {},
     "output_type": "execute_result"
    }
   ],
   "source": [
    "from sklearn.tree import DecisionTreeClassifier\n",
    "\n",
    "tree_clf = DecisionTreeClassifier(random_state=42)\n",
    "\n",
    "tree_clf.fit(X_train, y_train)\n",
    "y_pred_bag = tree_clf.predict(X_test)\n",
    "\n",
    "accuracy_score(y_test, y_pred_bag)"
   ]
  },
  {
   "cell_type": "markdown",
   "metadata": {},
   "source": [
    "#### Plot a decision boundary to see the difference"
   ]
  },
  {
   "cell_type": "code",
   "execution_count": 7,
   "metadata": {},
   "outputs": [
    {
     "data": {
      "image/png": "[encoded data removed]",
      "text/plain": [
       "<Figure size 720x288 with 2 Axes>"
      ]
     },
     "metadata": {
      "needs_background": "light"
     },
     "output_type": "display_data"
    }
   ],
   "source": [
    "from matplotlib.colors import ListedColormap\n",
    "import matplotlib.pyplot as plt\n",
    "def plot_decision_boundary(clf, X, y, axes=[-1.5, 2.45, -1, 1.5], alpha=0.5, contour=True):\n",
    "    #obtain values for the grid\n",
    "    x1s = np.linspace(axes[0], axes[1], 100)\n",
    "    x2s = np.linspace(axes[2], axes[3], 100)\n",
    "    x1, x2 = np.meshgrid(x1s, x2s)\n",
    "    X_new = np.c_[x1.ravel(), x2.ravel()]\n",
    "    \n",
    "    #prediction\n",
    "    y_pred = clf.predict(X_new).reshape(x1.shape)\n",
    "    \n",
    "    #assign colours\n",
    "    custom_cmap = ListedColormap(['#fafab0','#9898ff','#a0faa0'])\n",
    "    plt.contourf(x1, x2, y_pred, alpha=0.3, cmap=custom_cmap)\n",
    "    if contour:\n",
    "        custom_cmap2 = ListedColormap(['#7d7d58','#4c4c7f','#507d50'])\n",
    "        plt.contour(x1, x2, y_pred, cmap=custom_cmap2, alpha=0.8)\n",
    "    \n",
    "    #plot lines\n",
    "    plt.plot(X[:, 0][y==0], X[:, 1][y==0], \"yo\", alpha=alpha)\n",
    "    plt.plot(X[:, 0][y==1], X[:, 1][y==1], \"bs\", alpha=alpha)\n",
    "    \n",
    "    #plot axis and labels\n",
    "    plt.axis(axes)\n",
    "    plt.xlabel(r\"$x_1$\", fontsize=18)\n",
    "    plt.ylabel(r\"$x_2$\", fontsize=18, rotation=0)\n",
    "\n",
    "\n",
    "fix, axes = plt.subplots(ncols=2, figsize=(10,4), sharey=True)\n",
    "plt.sca(axes[0])\n",
    "plot_decision_boundary(tree_clf, X, y)\n",
    "plt.title(\"Decision Tree\", fontsize=14)\n",
    "plt.sca(axes[1])\n",
    "plot_decision_boundary(bag_clf, X, y)\n",
    "plt.title(\"Decision Trees with Bagging\", fontsize=14)\n",
    "plt.ylabel(\"\")\n",
    "plt.show()"
   ]
  },
  {
   "cell_type": "markdown",
   "metadata": {},
   "source": [
    "## The right plot generalizes signifcantly better compared to the single decision tree. \n",
    "\n",
    "Generally, it is better to use bootstrapping as it has adds more diversity within the subsets. However, if CPU power permits then you should try use Cross Validation to evaluate both bagging and pasting, and choose one that works best.\n",
    "\n",
    "Interestingly, when reading: http://web.cs.iastate.edu/~jtian/cs573/Papers/Kohavi-IJCAI-95.pdf, it is preferred using 10 fold (stratified) cross validation compared to bootstrap. The journal states that although variance tends to be less, the bias ends up being signifcantly large for some datasets. \n",
    "\n",
    "When using bagging (boostrap or pasting) for a given predictor, some samples may not be used for preditions at all ~ 37% of them (formly called out of bag (OOB) instances), while the remaining 63% will randomly be used in each bag to train that model.<b> Wait! </b> We can use the OOB instances to validate each bag's model. Setting oob_score= True does this. This makes it possible for a fairly unbiased evaluation of the ensemble and gives an additional validation set."
   ]
  },
  {
   "cell_type": "code",
   "execution_count": 8,
   "metadata": {},
   "outputs": [
    {
     "data": {
      "text/plain": [
       "0.8986666666666666"
      ]
     },
     "execution_count": 8,
     "metadata": {},
     "output_type": "execute_result"
    }
   ],
   "source": [
    "from sklearn.ensemble import BaggingClassifier\n",
    "\n",
    "bag_clf_oob = BaggingClassifier(DecisionTreeClassifier(), random_state=42, oob_score= True, n_estimators=500,\n",
    "                                bootstrap=True, n_jobs=-1)\n",
    "\n",
    "bag_clf_oob.fit(X_train, y_train)\n",
    "\n",
    "bag_clf_oob.oob_score_"
   ]
  },
  {
   "cell_type": "markdown",
   "metadata": {},
   "source": [
    "###### This score essentially gives us a prediction of the accuracy score that we may see during testing. See below.\n",
    "We achieved a better score during the Validation set."
   ]
  },
  {
   "cell_type": "code",
   "execution_count": 9,
   "metadata": {},
   "outputs": [
    {
     "data": {
      "text/plain": [
       "0.912"
      ]
     },
     "execution_count": 9,
     "metadata": {},
     "output_type": "execute_result"
    }
   ],
   "source": [
    "y_pred_oob = bag_clf_oob.predict(X_test)\n",
    "accuracy_score(y_test, y_pred_oob)"
   ]
  },
  {
   "cell_type": "markdown",
   "metadata": {},
   "source": [
    "#### So far we have only see bootsrap on instances. We can also use it on features by setting the 2 hyperparameters:\n",
    "- max_features = <1.0\n",
    "- bootstrap_features = True\n",
    "\n",
    "Both methods train the subset of data on a random set of features. This is very useful when dealing with a high number of features. \n",
    "\n",
    "#### Combining the two together, when you sample the data and features is called <u> Random Patches Method </u>. \n",
    "\n",
    "#### When you just want to sample the features that is called <u> Random Subspaces Method </u>, you can do this by 'turning off' the instances bagging and turning on the features, see hyperparameter settings below. The Subspaces method psuedorandomly selects subsets of components of the feature vector itself (for some reason that I do not understand this procedure works!)\n",
    "#turn off instance bagging\n",
    "- bootstrap= False\n",
    "- max_samples= 1.0\n",
    "\n",
    "#turn on feature sampling\n",
    "- max_features = <1.0\n",
    "- boostrap_features= True\n",
    "\n"
   ]
  },
  {
   "cell_type": "markdown",
   "metadata": {},
   "source": [
    "# Random Forests\n",
    "Decision trees work really well with training data but may lack in accuracy for new instances. The random forest creates internal nodes that are randomly assigned until a classification is output. This is multiplied several times to make a forest where each decision tree is different, where it searches for the best feature among a random subset of features; moreover, this gives greater tree diversity. Therefore, higher bias for lower variance. \n",
    "\n",
    "<i> note, decision trees search for the best feature NOT a random feature. </i>\n",
    "\n",
    "We used the BaggingClassifier class and input the DecisionTreeClassifier to help us build a decision tree. Instead, we can use the RandomForestClassifier class which is optimised for DecisionTrees. The following codes shows improvements from the previous BaggingClassifier oob and accuracy scores.\n",
    "\n",
    "<i> BaggingClassifier can input other types of classifiers </i>"
   ]
  },
  {
   "cell_type": "code",
   "execution_count": 10,
   "metadata": {},
   "outputs": [
    {
     "name": "stdout",
     "output_type": "stream",
     "text": [
      "Random Forest Out of Bag Score:  0.9173333333333333\n",
      "Random Forest Accuracy Score 0.912\n"
     ]
    }
   ],
   "source": [
    "from sklearn.ensemble import RandomForestClassifier\n",
    "\n",
    "random_forest_clf = RandomForestClassifier(random_state=42, oob_score= True, n_estimators=500,\n",
    "                                bootstrap=True, n_jobs=-1, max_leaf_nodes=16)\n",
    "#typically max_samples is set to the size of the training set\n",
    "random_forest_clf.fit(X_train, y_train)\n",
    "\n",
    "y_pred_random_forest = random_forest_clf.predict(X_test)\n",
    "\n",
    "print('Random Forest Out of Bag Score: ', random_forest_clf.oob_score_)\n",
    "print('Random Forest Accuracy Score', accuracy_score(y_test, y_pred_random_forest))\n"
   ]
  },
  {
   "cell_type": "markdown",
   "metadata": {},
   "source": [
    "# Extra Tree Classifier\n",
    "We can make trees even more random by assigning a random threshold for each feature rather than searching for the best threshold value like regular decision trees. This is called Extremely Randomized Trees - Extra Trees for short. \n",
    "\n",
    "This introduces more bias but a lower variance. It also trains faster then random forest since we are assigning a random value. But it <u> predicts</u> at the same rate as RandomForests. "
   ]
  },
  {
   "cell_type": "code",
   "execution_count": 11,
   "metadata": {},
   "outputs": [
    {
     "name": "stdout",
     "output_type": "stream",
     "text": [
      "Extra Tree Out of Bag Score:  0.8986666666666666\n",
      "Extra Tree Accuracy Score 0.912\n"
     ]
    }
   ],
   "source": [
    "from sklearn.ensemble import ExtraTreesClassifier\n",
    "\n",
    "extra_tree_clf = ExtraTreesClassifier(random_state=42, oob_score= True, n_estimators=500,\n",
    "                                bootstrap=True, n_jobs=-1, max_leaf_nodes=16)\n",
    "\n",
    "extra_tree_clf.fit(X_train, y_train)\n",
    "\n",
    "y_pred_extra_tree_clf = extra_tree_clf.predict(X_test)\n",
    "\n",
    "print('Extra Tree Out of Bag Score: ', extra_tree_clf.oob_score_)\n",
    "print('Extra Tree Accuracy Score', accuracy_score(y_test, y_pred_extra_tree_clf))"
   ]
  },
  {
   "cell_type": "markdown",
   "metadata": {},
   "source": [
    "#### Similiar results are obtained.\n",
    "\n",
    "# Be sure to try both using Cross Validation and then tune hyperparameters using GridSearch"
   ]
  },
  {
   "cell_type": "markdown",
   "metadata": {},
   "source": [
    "# Feature Importance\n",
    "This is calculated by the forest tree nodes that use a given feature and reduce impurity on average. (i.e. A nodes weight = number of training samples).\n",
    "Following this, Sklearn outputs the weighted average (i.e. %) of each features importance using the feature_importance_ variable.  "
   ]
  },
  {
   "cell_type": "code",
   "execution_count": 12,
   "metadata": {},
   "outputs": [
    {
     "name": "stdout",
     "output_type": "stream",
     "text": [
      "sepal length (cm) 0.11249225099876375\n",
      "sepal width (cm) 0.02311928828251033\n",
      "petal length (cm) 0.4410304643639577\n",
      "petal width (cm) 0.4233579963547682\n"
     ]
    }
   ],
   "source": [
    "#load iris\n",
    "from sklearn.datasets import load_iris\n",
    "iris = load_iris()\n",
    "X = iris['data']\n",
    "y = iris['target']\n",
    "\n",
    "#note we should split the data but I just want to show what feature importance's output is\n",
    "#train model\n",
    "rnd_clf = RandomForestClassifier(random_state=42, n_estimators=500, n_jobs=-1)\n",
    "rnd_clf.fit(X, y)\n",
    "\n",
    "for name, score in zip(iris['feature_names'], rnd_clf.feature_importances_):\n",
    "    print(name, score)\n",
    "    \n",
    "# as you can see the Petal Length and Petal width are really import features while Sepal length and width are not. "
   ]
  },
  {
   "cell_type": "markdown",
   "metadata": {},
   "source": [
    "# Hypothesis Boosting - Adaboost and Gradient Boosting\n",
    "\n",
    "Why don't we train models sequentially? Where the next model improves based on the previous model's performance. \n",
    "\n",
    "There are two most popular are\n",
    "1. Adaboost - uses the <u> weighted error rate </u>, updates it using the weight update rule and then based on the all the predictions, it uses the majority of weighted votes to make prediction. The weighted errors are updated simultaneously instead of updating a single parameter like Gradient Descent.  \n",
    " <i> SVC tend to be unstable with Adaboost. Adaboost does not scale as well as bagging and pasting.  </i>\n",
    "\n",
    "In plain English, there are a series of (yes or no) trees followed by some maths to see which tree is relevant then finds the mode of the predictions to use a the instance's prediction. A Video might help explain this then words: https://www.youtube.com/watch?v=LsK-xG1cLYA&t=848s \n",
    "\n",
    "Adaboost can also perform multiclasses using SAMME (Stagewise Addictive Modelling using a Multiclass Exponential Loss Function). If a classifier is used that has the predict_proba method (i.e. probabilities) then you should assign algorithm= 'SAMME.R' as this relies on class probabilities(rather than class predictions) and <b> generally performs better </b>.\n",
    "\n",
    "If Adaboost is underfitting you can try increasing the n_estimators (stumps) and the learning_rate, and reducing the base estimator (for example, max_depth or min_samples_split etc.). \n",
    "\n",
    "2. Gradient Boosting - Uses the <u> residual errors </u> to tweak a new predictor. Initially, a model is produced and the residual error is calculated (h(x) - y). This value then determines the next model's prediction, where the residual error is calculate for the second model $(h(x)^2 - y)$ using $h_{average}(x) + a * (h(x) -y)$ at which point you will see an improved model where alpha is the learning rate. If you keep doing this you will see the model has approved based on the residual errors where each subsequent model increments your prediction in right direction.  \n",
    "\n",
    "If you are overftting the training data then you should try reduce the learning rate and use early stopping because it is likely you are using too many predictors.\n",
    "\n",
    "XGBoost is a key package to help implement Gradient Boosting and has been involved in winning several competitions. You will see high bias but a low variance in your model.\n"
   ]
  },
  {
   "cell_type": "code",
   "execution_count": 13,
   "metadata": {},
   "outputs": [
    {
     "name": "stdout",
     "output_type": "stream",
     "text": [
      "DecisionTree Adaboost Accuracy Score 0.896\n"
     ]
    }
   ],
   "source": [
    "#Example of AdaBoost\n",
    "from sklearn.ensemble import AdaBoostClassifier\n",
    "\n",
    "ada_clf = AdaBoostClassifier(DecisionTreeClassifier(max_depth=1), random_state=42, n_estimators= 200,\n",
    "                             algorithm= 'SAMME.R', learning_rate= 0.5)\n",
    "ada_clf.fit(X_train, y_train)\n",
    "y_predict_ada = ada_clf.predict(X_test)\n",
    "\n",
    "print('DecisionTree Adaboost Accuracy Score', accuracy_score(y_test, y_predict_ada))"
   ]
  },
  {
   "cell_type": "code",
   "execution_count": 14,
   "metadata": {},
   "outputs": [
    {
     "name": "stdout",
     "output_type": "stream",
     "text": [
      "DecisionTree Gradient Boost Accuracy Score 0.896\n"
     ]
    }
   ],
   "source": [
    "#Example of Gradient Boost - when used with Decision Trees it is called GBRT - Gradient Boosted Regression Trees\n",
    "\n",
    "from sklearn.ensemble import GradientBoostingClassifier\n",
    "\n",
    "gbrt = GradientBoostingClassifier(random_state=42, max_depth= 2, n_estimators= 3, learning_rate= 0.1)\n",
    "gbrt.fit(X_train, y_train)\n",
    "\n",
    "y_pred_boost = gbrt.predict(X_test)\n",
    "\n",
    "print('DecisionTree Gradient Boost Accuracy Score', accuracy_score(y_test, y_pred_boost))\n",
    "\n",
    "#The Learning rate scales the contribution of each tree, a lower value means it will generalise better, this is called\n",
    "#Shrinkage. But making the value, like with everything we have learnt to far, too small will cause introduce bias errors."
   ]
  },
  {
   "cell_type": "markdown",
   "metadata": {},
   "source": [
    "#### Interestingly,  the score is the same as AdaBoost. But this may not always be the case. \n",
    "\n",
    "### With Gradient Boosting, the problem is that you need to find the optimal number of trees, to do this you can use early stopping. \n",
    "Instead of trying to train all the trees and then calculate the scores for each tree, we can incorporate early stopping by setting warm_start= True to stop once validation error does reduce any further for m iterations in a row. "
   ]
  },
  {
   "cell_type": "code",
   "execution_count": 15,
   "metadata": {},
   "outputs": [
    {
     "name": "stdout",
     "output_type": "stream",
     "text": [
      "0.104\n",
      "DecisionTree Gradient Boost Early Stopping Accuracy Score 0.896\n"
     ]
    }
   ],
   "source": [
    "from sklearn.ensemble import GradientBoostingClassifier\n",
    "from sklearn.metrics import mean_squared_error\n",
    "\n",
    "gbrt = GradientBoostingClassifier(random_state=42, warm_start= True,\n",
    "                                  max_depth=2,)# subsample=0.25 is referred to as Stochastic Gradient Boosting,\n",
    "#it introduces a higher bias, for lower variance. As it is trained on 25% of the training instances.\n",
    "    \n",
    "\n",
    "min_val_error = float('inf') #highest possible value of error.\n",
    "\n",
    "for i in range(1, 120):\n",
    "    gbrt.n_estimators = i\n",
    "    gbrt.fit(X_train, y_train)\n",
    "    y_pred_gbrt = gbrt.predict(X_test)\n",
    "    test_error = mean_squared_error(y_test, y_pred_gbrt)\n",
    "    if test_error<min_val_error:\n",
    "        min_val_error= test_error\n",
    "        error_going_up = 0\n",
    "    else:\n",
    "        error_going_up=+1\n",
    "        if error_going_up==5:\n",
    "            break\n",
    "print(test_error)\n",
    "print('DecisionTree Gradient Boost Early Stopping Accuracy Score', accuracy_score(y_test, y_pred_gbrt))"
   ]
  },
  {
   "cell_type": "markdown",
   "metadata": {},
   "source": [
    "# Stacking\n",
    "The final Ensembled method discussed is stacking (Stacked Generalization) where a series of models are combined and evaluated. Each model's predictions are used as an input for the 'blender' model, which is the final predictor, that makes a final prediction based on the other models output. \n",
    "\n",
    "The blender model (also known as the meta learner) aggregates outputs to help reduce the generalization error rate. A simple version of aggregation is that used in hard voting (i.e. the mode) but stacking provides a more sophisticated approach. \n",
    "\n",
    "The Stacking approach seems to be similiar to Neural Networks.\n",
    "Sklearn does not have Stacking but you can try create our own. "
   ]
  }
 ],
 "metadata": {
  "kernelspec": {
   "display_name": "TrainingPython3",
   "language": "python",
   "name": "trainingpython3"
  },
  "language_info": {
   "codemirror_mode": {
    "name": "ipython",
    "version": 3
   },
   "file_extension": ".py",
   "mimetype": "text/x-python",
   "name": "python",
   "nbconvert_exporter": "python",
   "pygments_lexer": "ipython3",
   "version": "3.8.2"
  }
 },
 "nbformat": 4,
 "nbformat_minor": 4
}
